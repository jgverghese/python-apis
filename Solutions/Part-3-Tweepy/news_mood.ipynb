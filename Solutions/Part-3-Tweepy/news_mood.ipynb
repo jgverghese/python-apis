{
 "cells": [
  {
   "cell_type": "markdown",
   "metadata": {},
   "source": [
    "## news_mood.py \n",
    "----\n",
    "The below code is meant to provide a cursory look at the world mood according to the Twitter profiles of news agencies. In essence, the script allows one to quickly perform a sentiment analysis on the most recent tweets of any given Twitter accounts and plot the results. Notable libraries used to complete this application include: Matplotlib, Pandas, Tweepy, VADER Sentiment Analysis, and Seaborn."
   ]
  },
  {
   "cell_type": "code",
   "execution_count": 11,
   "metadata": {},
   "outputs": [],
   "source": [
    "# Dependencies\n",
    "%matplotlib inline\n",
    "import numpy as np\n",
    "import pandas as pd\n",
    "import matplotlib.pyplot as plt\n",
    "import json\n",
    "import tweepy\n",
    "import time\n",
    "import warnings\n",
    "warnings.filterwarnings(\"ignore\")\n",
    "\n",
    "# API keys\n",
    "import api_keys\n",
    "\n",
    "# Initialize Sentiment Analyzer \n",
    "# from textblob import TextBlob\n",
    "from vaderSentiment.vaderSentiment import SentimentIntensityAnalyzer\n",
    "analyzer = SentimentIntensityAnalyzer()\n",
    "\n",
    "# Twitter API Keys\n",
    "consumer_key = api_keys.consumer_key\n",
    "consumer_secret = api_keys.consumer_secret\n",
    "access_token = api_keys.access_token\n",
    "access_token_secret = api_keys.access_token_secret"
   ]
  },
  {
   "cell_type": "code",
   "execution_count": 12,
   "metadata": {},
   "outputs": [],
   "source": [
    "# Setup Tweepy API Authentication\n",
    "auth = tweepy.OAuthHandler(consumer_key, consumer_secret)\n",
    "auth.set_access_token(access_token, access_token_secret)\n",
    "api = tweepy.API(auth, parser=tweepy.parsers.JSONParser())\n",
    "\n",
    "# Select News Sources (Twitter Accounts)\n",
    "news_source = [\"FoxNews\", \"CNN\", \"BBCWorld\", \"CBSNews\", \"nytimes\"]"
   ]
  },
  {
   "cell_type": "markdown",
   "metadata": {},
   "source": [
    "## Grab Tweets"
   ]
  },
  {
   "cell_type": "code",
   "execution_count": 13,
   "metadata": {
    "scrolled": true
   },
   "outputs": [],
   "source": [
    "# Create a generic dictionary for holding all tweet information\n",
    "tweet_data = {\n",
    "    \"tweet_source\": [],\n",
    "    \"tweet_text\": [],\n",
    "    \"tweet_date\": [],\n",
    "    \"tweet_vader_score\": [],\n",
    "    \"tweet_neg_score\": [],\n",
    "    \"tweet_pos_score\": [],\n",
    "    \"tweet_neu_score\": []\n",
    "}\n",
    "\n",
    "# Grab 100 tweets from each site (total 500)\n",
    "for x in range(5):\n",
    "\n",
    "    # Loop through all news sources\n",
    "    for source in news_source:\n",
    "\n",
    "        # Grab the tweets\n",
    "        tweets = api.user_timeline(source, page=x)\n",
    "\n",
    "        # For each tweet store it into the dictionary\n",
    "        for tweet in tweets:\n",
    "            \n",
    "            # All data is grabbed from the JSON returned by Twitter\n",
    "            tweet_data[\"tweet_source\"].append(tweet[\"user\"][\"name\"])\n",
    "            tweet_data[\"tweet_text\"].append(tweet[\"text\"])\n",
    "            tweet_data[\"tweet_date\"].append(tweet[\"created_at\"])\n",
    "\n",
    "            # Run sentiment analysis on each tweet using Vader\n",
    "            tweet_data[\"tweet_vader_score\"].append(analyzer.polarity_scores(tweet[\"text\"])[\"compound\"])\n",
    "            tweet_data[\"tweet_pos_score\"].append(analyzer.polarity_scores(tweet[\"text\"])[\"pos\"])\n",
    "            tweet_data[\"tweet_neu_score\"].append(analyzer.polarity_scores(tweet[\"text\"])[\"neu\"])\n",
    "            tweet_data[\"tweet_neg_score\"].append(analyzer.polarity_scores(tweet[\"text\"])[\"neg\"])"
   ]
  },
  {
   "cell_type": "code",
   "execution_count": 14,
   "metadata": {},
   "outputs": [
    {
     "data": {
      "text/html": [
       "<div>\n",
       "<style scoped>\n",
       "    .dataframe tbody tr th:only-of-type {\n",
       "        vertical-align: middle;\n",
       "    }\n",
       "\n",
       "    .dataframe tbody tr th {\n",
       "        vertical-align: top;\n",
       "    }\n",
       "\n",
       "    .dataframe thead th {\n",
       "        text-align: right;\n",
       "    }\n",
       "</style>\n",
       "<table border=\"1\" class=\"dataframe\">\n",
       "  <thead>\n",
       "    <tr style=\"text-align: right;\">\n",
       "      <th></th>\n",
       "      <th>tweet_source</th>\n",
       "      <th>tweet_text</th>\n",
       "      <th>tweet_date</th>\n",
       "      <th>tweet_vader_score</th>\n",
       "      <th>tweet_pos_score</th>\n",
       "      <th>tweet_neu_score</th>\n",
       "      <th>tweet_neg_score</th>\n",
       "    </tr>\n",
       "  </thead>\n",
       "  <tbody>\n",
       "    <tr>\n",
       "      <td>0</td>\n",
       "      <td>Fox News</td>\n",
       "      <td>Crowds of President Trump supporters are gathe...</td>\n",
       "      <td>Sat Nov 14 16:33:21 +0000 2020</td>\n",
       "      <td>0.4404</td>\n",
       "      <td>0.195</td>\n",
       "      <td>0.805</td>\n",
       "      <td>0.00</td>\n",
       "    </tr>\n",
       "    <tr>\n",
       "      <td>1</td>\n",
       "      <td>Fox News</td>\n",
       "      <td>As violent crime surges across the nation of 1...</td>\n",
       "      <td>Sat Nov 14 15:58:46 +0000 2020</td>\n",
       "      <td>-0.8126</td>\n",
       "      <td>0.000</td>\n",
       "      <td>0.720</td>\n",
       "      <td>0.28</td>\n",
       "    </tr>\n",
       "    <tr>\n",
       "      <td>2</td>\n",
       "      <td>Fox News</td>\n",
       "      <td>The U.S. Army announced the deaths of five sol...</td>\n",
       "      <td>Sat Nov 14 14:05:27 +0000 2020</td>\n",
       "      <td>0.4588</td>\n",
       "      <td>0.167</td>\n",
       "      <td>0.833</td>\n",
       "      <td>0.00</td>\n",
       "    </tr>\n",
       "    <tr>\n",
       "      <td>3</td>\n",
       "      <td>Fox News</td>\n",
       "      <td>Acting Defense Secretary Christopher Miller sh...</td>\n",
       "      <td>Sat Nov 14 12:29:26 +0000 2020</td>\n",
       "      <td>0.4404</td>\n",
       "      <td>0.262</td>\n",
       "      <td>0.738</td>\n",
       "      <td>0.00</td>\n",
       "    </tr>\n",
       "    <tr>\n",
       "      <td>4</td>\n",
       "      <td>Fox News</td>\n",
       "      <td>Miami Republicans flipped seats in two South F...</td>\n",
       "      <td>Sat Nov 14 11:55:12 +0000 2020</td>\n",
       "      <td>0.0000</td>\n",
       "      <td>0.000</td>\n",
       "      <td>1.000</td>\n",
       "      <td>0.00</td>\n",
       "    </tr>\n",
       "  </tbody>\n",
       "</table>\n",
       "</div>"
      ],
      "text/plain": [
       "  tweet_source                                         tweet_text  \\\n",
       "0     Fox News  Crowds of President Trump supporters are gathe...   \n",
       "1     Fox News  As violent crime surges across the nation of 1...   \n",
       "2     Fox News  The U.S. Army announced the deaths of five sol...   \n",
       "3     Fox News  Acting Defense Secretary Christopher Miller sh...   \n",
       "4     Fox News  Miami Republicans flipped seats in two South F...   \n",
       "\n",
       "                       tweet_date  tweet_vader_score  tweet_pos_score  \\\n",
       "0  Sat Nov 14 16:33:21 +0000 2020             0.4404            0.195   \n",
       "1  Sat Nov 14 15:58:46 +0000 2020            -0.8126            0.000   \n",
       "2  Sat Nov 14 14:05:27 +0000 2020             0.4588            0.167   \n",
       "3  Sat Nov 14 12:29:26 +0000 2020             0.4404            0.262   \n",
       "4  Sat Nov 14 11:55:12 +0000 2020             0.0000            0.000   \n",
       "\n",
       "   tweet_neu_score  tweet_neg_score  \n",
       "0            0.805             0.00  \n",
       "1            0.720             0.28  \n",
       "2            0.833             0.00  \n",
       "3            0.738             0.00  \n",
       "4            1.000             0.00  "
      ]
     },
     "execution_count": 14,
     "metadata": {},
     "output_type": "execute_result"
    }
   ],
   "source": [
    "# Store the final contents into a DataFrame\n",
    "tweet_df = pd.DataFrame(tweet_data, columns=[\"tweet_source\", \n",
    "                                             \"tweet_text\", \n",
    "                                             \"tweet_date\",\n",
    "                                             \"tweet_vader_score\",\n",
    "                                             \"tweet_pos_score\",\n",
    "                                             \"tweet_neu_score\",\n",
    "                                             \"tweet_neg_score\"])\n",
    "\n",
    "# Export to CSV\n",
    "file_name = str(time.strftime(\"%m-%d-%y\")) + \"-tweets.csv\"\n",
    "tweet_df.to_csv(\"analysis/\" + file_name, encoding=\"utf-8\")\n",
    "\n",
    "# Visualize the DataFrame\n",
    "tweet_df.head()"
   ]
  },
  {
   "cell_type": "code",
   "execution_count": 15,
   "metadata": {},
   "outputs": [
    {
     "data": {
      "text/plain": [
       "tweet_source         500\n",
       "tweet_text           500\n",
       "tweet_date           500\n",
       "tweet_vader_score    500\n",
       "tweet_pos_score      500\n",
       "tweet_neu_score      500\n",
       "tweet_neg_score      500\n",
       "dtype: int64"
      ]
     },
     "execution_count": 15,
     "metadata": {},
     "output_type": "execute_result"
    }
   ],
   "source": [
    "# Count the total number of tweets\n",
    "tweet_df.count()"
   ]
  },
  {
   "cell_type": "code",
   "execution_count": 16,
   "metadata": {},
   "outputs": [
    {
     "data": {
      "text/plain": [
       "array(['Fox News', 'CNN', 'BBC News (World)', 'CBS News',\n",
       "       'The New York Times'], dtype=object)"
      ]
     },
     "execution_count": 16,
     "metadata": {},
     "output_type": "execute_result"
    }
   ],
   "source": [
    "# Obtain the source names for reference\n",
    "tweet_df[\"tweet_source\"].unique()"
   ]
  },
  {
   "cell_type": "code",
   "execution_count": 17,
   "metadata": {},
   "outputs": [
    {
     "data": {
      "text/html": [
       "<div>\n",
       "<style scoped>\n",
       "    .dataframe tbody tr th:only-of-type {\n",
       "        vertical-align: middle;\n",
       "    }\n",
       "\n",
       "    .dataframe tbody tr th {\n",
       "        vertical-align: top;\n",
       "    }\n",
       "\n",
       "    .dataframe thead th {\n",
       "        text-align: right;\n",
       "    }\n",
       "</style>\n",
       "<table border=\"1\" class=\"dataframe\">\n",
       "  <thead>\n",
       "    <tr style=\"text-align: right;\">\n",
       "      <th></th>\n",
       "      <th>tweet_source</th>\n",
       "      <th>tweet_text</th>\n",
       "      <th>tweet_date</th>\n",
       "      <th>tweet_vader_score</th>\n",
       "      <th>tweet_pos_score</th>\n",
       "      <th>tweet_neu_score</th>\n",
       "      <th>tweet_neg_score</th>\n",
       "    </tr>\n",
       "  </thead>\n",
       "  <tbody>\n",
       "    <tr>\n",
       "      <td>0</td>\n",
       "      <td>Fox News</td>\n",
       "      <td>Sunny Hostin sides with AOC's blacklist: Trump...</td>\n",
       "      <td>2020-11-11 01:49:55+00:00</td>\n",
       "      <td>0.4215</td>\n",
       "      <td>0.177</td>\n",
       "      <td>0.823</td>\n",
       "      <td>0.000</td>\n",
       "    </tr>\n",
       "    <tr>\n",
       "      <td>1</td>\n",
       "      <td>Fox News</td>\n",
       "      <td>RT @FoxBusiness: Amazon’s Ring recalls 350,000...</td>\n",
       "      <td>2020-11-11 01:50:33+00:00</td>\n",
       "      <td>0.0000</td>\n",
       "      <td>0.000</td>\n",
       "      <td>1.000</td>\n",
       "      <td>0.000</td>\n",
       "    </tr>\n",
       "    <tr>\n",
       "      <td>2</td>\n",
       "      <td>Fox News</td>\n",
       "      <td>RT @FoxBusiness: Shaq shaves $3 million off as...</td>\n",
       "      <td>2020-11-11 01:50:48+00:00</td>\n",
       "      <td>0.6124</td>\n",
       "      <td>0.182</td>\n",
       "      <td>0.818</td>\n",
       "      <td>0.000</td>\n",
       "    </tr>\n",
       "    <tr>\n",
       "      <td>3</td>\n",
       "      <td>Fox News</td>\n",
       "      <td>GOP-bashing, softball questions take center st...</td>\n",
       "      <td>2020-11-11 02:20:55+00:00</td>\n",
       "      <td>0.0000</td>\n",
       "      <td>0.000</td>\n",
       "      <td>1.000</td>\n",
       "      <td>0.000</td>\n",
       "    </tr>\n",
       "    <tr>\n",
       "      <td>4</td>\n",
       "      <td>Fox News</td>\n",
       "      <td>James Carville says 'woke' people need to take...</td>\n",
       "      <td>2020-11-11 10:48:18+00:00</td>\n",
       "      <td>-0.4019</td>\n",
       "      <td>0.000</td>\n",
       "      <td>0.828</td>\n",
       "      <td>0.172</td>\n",
       "    </tr>\n",
       "  </tbody>\n",
       "</table>\n",
       "</div>"
      ],
      "text/plain": [
       "  tweet_source                                         tweet_text  \\\n",
       "0     Fox News  Sunny Hostin sides with AOC's blacklist: Trump...   \n",
       "1     Fox News  RT @FoxBusiness: Amazon’s Ring recalls 350,000...   \n",
       "2     Fox News  RT @FoxBusiness: Shaq shaves $3 million off as...   \n",
       "3     Fox News  GOP-bashing, softball questions take center st...   \n",
       "4     Fox News  James Carville says 'woke' people need to take...   \n",
       "\n",
       "                 tweet_date  tweet_vader_score  tweet_pos_score  \\\n",
       "0 2020-11-11 01:49:55+00:00             0.4215            0.177   \n",
       "1 2020-11-11 01:50:33+00:00             0.0000            0.000   \n",
       "2 2020-11-11 01:50:48+00:00             0.6124            0.182   \n",
       "3 2020-11-11 02:20:55+00:00             0.0000            0.000   \n",
       "4 2020-11-11 10:48:18+00:00            -0.4019            0.000   \n",
       "\n",
       "   tweet_neu_score  tweet_neg_score  \n",
       "0            0.823            0.000  \n",
       "1            1.000            0.000  \n",
       "2            0.818            0.000  \n",
       "3            1.000            0.000  \n",
       "4            0.828            0.172  "
      ]
     },
     "execution_count": 17,
     "metadata": {},
     "output_type": "execute_result"
    }
   ],
   "source": [
    "# Convert dates (currently strings) into datetimes\n",
    "tweet_df[\"tweet_date\"] = pd.to_datetime(tweet_df[\"tweet_date\"])\n",
    "\n",
    "# Sort the dataframe by date\n",
    "tweet_df.sort_values(\"tweet_date\", inplace=True)\n",
    "tweet_df.reset_index(drop=True, inplace=True)\n",
    "\n",
    "# Preview the data to confirm data is sorted\n",
    "tweet_df.head()"
   ]
  },
  {
   "cell_type": "markdown",
   "metadata": {},
   "source": [
    "## Sentiment Scatter Plot"
   ]
  },
  {
   "cell_type": "code",
   "execution_count": 18,
   "metadata": {
    "scrolled": false
   },
   "outputs": [
    {
     "data": {
      "image/png": "[encoded data removed]",
      "text/plain": [
       "<Figure size 432x288 with 1 Axes>"
      ]
     },
     "metadata": {
      "needs_background": "light"
     },
     "output_type": "display_data"
    }
   ],
   "source": [
    "# Build scatter plot for tracking tweet polarity by tweet history\n",
    "# Note how a few data munging tricks were used to obtain (-100 -> 0 tick marks)\n",
    "plt.scatter(np.arange(-len(tweet_df[tweet_df[\"tweet_source\"] == \"BBC News (World)\"]), 0, 1), \n",
    "            tweet_df[tweet_df[\"tweet_source\"] == \"BBC News (World)\"][\"tweet_vader_score\"],\n",
    "            edgecolor=\"black\", linewidths=1, marker=\"o\", color=\"skyblue\", s=75,\n",
    "            alpha=0.8, label=\"BBC\")\n",
    "\n",
    "plt.scatter(np.arange(-len(tweet_df[tweet_df[\"tweet_source\"] == \"CBS News\"]), 0, 1), \n",
    "            tweet_df[tweet_df[\"tweet_source\"] == \"CBS News\"][\"tweet_vader_score\"],\n",
    "            edgecolor=\"black\", linewidths=1, marker=\"o\", color=\"green\", s=75,\n",
    "            alpha=0.8, label=\"CBS\")\n",
    "\n",
    "plt.scatter(np.arange(-len(tweet_df[tweet_df[\"tweet_source\"] == \"CNN\"]), 0, 1), \n",
    "            tweet_df[tweet_df[\"tweet_source\"] == \"CNN\"][\"tweet_vader_score\"],\n",
    "            edgecolor=\"black\", linewidths=1, marker=\"o\", color=\"red\", s=75,\n",
    "            alpha=0.8, label=\"CNN\")\n",
    "\n",
    "plt.scatter(np.arange(-len(tweet_df[tweet_df[\"tweet_source\"] == \"Fox News\"]), 0, 1), \n",
    "            tweet_df[tweet_df[\"tweet_source\"] == \"Fox News\"][\"tweet_vader_score\"],\n",
    "            edgecolor=\"black\", linewidths=1, marker=\"o\", color=\"b\", s=75,\n",
    "            alpha=0.8, label=\"Fox\")\n",
    "\n",
    "plt.scatter(np.arange(-len(tweet_df[tweet_df[\"tweet_source\"] == \"The New York Times\"]), 0, 1), \n",
    "            tweet_df[tweet_df[\"tweet_source\"] == \"The New York Times\"][\"tweet_vader_score\"],\n",
    "            edgecolor=\"black\", linewidths=1, marker=\"o\", color=\"gold\", s=75,\n",
    "            alpha=0.8, label=\"New York Times\")\n",
    "\n",
    "# Incorporate the other graph properties\n",
    "plt.title(\"Sentiment Analysis of Media Tweets (%s)\" % time.strftime(\"%x\"))\n",
    "plt.ylabel(\"Tweet Polarity\")\n",
    "plt.xlabel(\"Tweets Ago\")\n",
    "plt.xlim([-105, 5])\n",
    "plt.xticks([-100, -80, -60, -40, -20, 0], [100, 80, 60, 40, 20, 0])\n",
    "plt.ylim([-1.05, 1.05])\n",
    "plt.grid(True)\n",
    "\n",
    "# Create a legend\n",
    "lgnd = plt.legend(fontsize=\"small\", mode=\"Expanded\", \n",
    "                  numpoints=1, scatterpoints=1, \n",
    "                  loc=\"upper left\", bbox_to_anchor=(1,1), title=\"Media Sources\", \n",
    "                  labelspacing=0.5)\n",
    "\n",
    "# Save the figure (and account for the legend being outside the plot when saving)\n",
    "file_name = str(time.strftime(\"%m-%d-%y\")) + \"-Fig1.png\"\n",
    "plt.savefig(\"analysis/\" + file_name, bbox_extra_artists=(lgnd, ), bbox_inches='tight')\n",
    "\n",
    "# Show plot\n",
    "plt.show()"
   ]
  },
  {
   "cell_type": "markdown",
   "metadata": {},
   "source": [
    "## Overall Sentiment Bar Graph"
   ]
  },
  {
   "cell_type": "code",
   "execution_count": 22,
   "metadata": {},
   "outputs": [],
   "source": [
    "# Average all polarities by news source\n",
    "tweet_df_polarity = tweet_df.groupby([\"tweet_source\"]).mean()[\"tweet_vader_score\"]\n",
    "\n",
    "# View the polarities\n",
    "tweet_df_polarity = pd.DataFrame(tweet_df_polarity)"
   ]
  },
  {
   "cell_type": "code",
   "execution_count": 24,
   "metadata": {
    "scrolled": false
   },
   "outputs": [
    {
     "data": {
      "image/png": "[encoded data removed]",
      "text/plain": [
       "<Figure size 432x288 with 1 Axes>"
      ]
     },
     "metadata": {
      "needs_background": "light"
     },
     "output_type": "display_data"
    }
   ],
   "source": [
    "# Generate bars for each news source\n",
    "\n",
    "# Orient widths, add labels, tick marks, etc. \n",
    "\n",
    "# Save Figure\n",
    "\n",
    "# Show Figure\n"
   ]
  },
  {
   "cell_type": "code",
   "execution_count": null,
   "metadata": {},
   "outputs": [],
   "source": []
  }
 ],
 "metadata": {
  "anaconda-cloud": {},
  "kernel_info": {
   "name": "py36"
  },
  "kernelspec": {
   "display_name": "Python 3",
   "language": "python",
   "name": "python3"
  },
  "language_info": {
   "codemirror_mode": {
    "name": "ipython",
    "version": 3
   },
   "file_extension": ".py",
   "mimetype": "text/x-python",
   "name": "python",
   "nbconvert_exporter": "python",
   "pygments_lexer": "ipython3",
   "version": "3.7.4"
  },
  "nteract": {
   "version": "0.2.0"
  }
 },
 "nbformat": 4,
 "nbformat_minor": 1
}
